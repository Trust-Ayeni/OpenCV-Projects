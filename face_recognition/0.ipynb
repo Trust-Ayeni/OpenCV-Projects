{
 "cells": [
  {
   "cell_type": "code",
   "execution_count": 3,
   "metadata": {},
   "outputs": [
    {
     "ename": "ModuleNotFoundError",
     "evalue": "No module named 'cv2'",
     "output_type": "error",
     "traceback": [
      "\u001b[1;31m---------------------------------------------------------------------------\u001b[0m",
      "\u001b[1;31mModuleNotFoundError\u001b[0m                       Traceback (most recent call last)",
      "\u001b[1;32m~\\AppData\\Local\\Temp\\ipykernel_10148\\949571761.py\u001b[0m in \u001b[0;36m<module>\u001b[1;34m\u001b[0m\n\u001b[1;32m----> 1\u001b[1;33m \u001b[1;32mimport\u001b[0m \u001b[0mcv2\u001b[0m\u001b[1;33m\u001b[0m\u001b[1;33m\u001b[0m\u001b[0m\n\u001b[0m\u001b[0;32m      2\u001b[0m \u001b[1;32mimport\u001b[0m \u001b[0mos\u001b[0m\u001b[1;33m\u001b[0m\u001b[1;33m\u001b[0m\u001b[0m\n\u001b[0;32m      3\u001b[0m \u001b[1;32mimport\u001b[0m \u001b[0mtime\u001b[0m\u001b[1;33m\u001b[0m\u001b[1;33m\u001b[0m\u001b[0m\n\u001b[0;32m      4\u001b[0m \u001b[1;32mimport\u001b[0m \u001b[0mshutil\u001b[0m\u001b[1;33m\u001b[0m\u001b[1;33m\u001b[0m\u001b[0m\n\u001b[0;32m      5\u001b[0m \u001b[1;33m\u001b[0m\u001b[0m\n",
      "\u001b[1;31mModuleNotFoundError\u001b[0m: No module named 'cv2'"
     ]
    }
   ],
   "source": [
    "import cv2\n",
    "import os\n",
    "import time\n",
    "import shutil\n",
    "\n",
    "from pyparsing import White\n",
    "\n",
    "cam = cv2.VideoCapture(0)\n",
    "cam.set(7, 640) # set video width\n",
    "cam.set(8, 480) # set video height\n",
    "\n",
    "\n",
    "# New users\n",
    "first_answer = input('Are you a new user? ').lower() # convert all input to lowercase\n",
    "\n",
    "if first_answer == 'yes':\n",
    "    # create a new directory and remove the old one if it exists\n",
    "    name = input('\\n Enter your jamb_reg ')\n",
    "   \n",
    "    dir = (f'dataset/{name}')\n",
    "    if not os.path.exists(dir):\n",
    "        os.makedirs(dir)\n",
    "    else:\n",
    "        shutil.rmtree(dir)           \n",
    "        os.makedirs(dir)\n",
    "\n",
    "    # For each person, enter one numeric face id\n",
    "    face_id = input('Please Input your name: ')\n",
    "\n",
    "    print(\"\\n [INFO] Initializing face capture. Look at the camera and wait ...\")\n",
    "    # Initialize individual sampling face count\n",
    "    count = 0\n",
    "    \n",
    "    while(True):\n",
    "        ret, img = cam.read()\n",
    "        rgb = cv2.cvtColor(img, cv2.COLOR_BGR2BGRA)\n",
    "        count += 1\n",
    "\n",
    "         \n",
    "        time.sleep(0.07)\n",
    "        cv2.imwrite(f\"dataset/{name}/\" + str(face_id) + '_' + str(count) + \".jpg\", img)\n",
    "        cv2.imshow('image', img)\n",
    "\n",
    "        k = cv2.waitKey(100) & 0xff # Press 'ESC' for exiting video\n",
    "        if k == 27:\n",
    "            break\n",
    "        elif count >= 50: # Take 50 face sample and stop video\n",
    "            break\n",
    "\n",
    "    # Do a bit of cleanup\n",
    "    print(\"\\n [INFO] Exiting Program and cleaning up stuff\")\n",
    "    cam.release()\n",
    "    cv2.destroyAllWindows()\n",
    "    print('\\n [INFO] You have registered your capture successfully..........')\n",
    "\n",
    "elif first_answer == 'no':\n",
    "    print('\\n [INFO] Please study for the exam as you have already registered..........')"
   ]
  },
  {
   "cell_type": "markdown",
   "metadata": {
    "tags": []
   },
   "source": [
    "Here is a simple Python code that uses OpenCV to detect cheating in a classroom setting. It will sound an alarm if it detects cheating three times, and save the region of interest (ROI) into a model for later use.\n",
    "\n",
    "create a python code that detects cheating with opencv, sounds an alarm when cheating only 3 times and save the roi into a model "
   ]
  },
  {
   "cell_type": "code",
   "execution_count": null,
   "metadata": {},
   "outputs": [],
   "source": [
    "import cv2\n",
    "\n",
    "# Load the Haar cascade classifier for face detection\n",
    "face_cascade = cv2.CascadeClassifier('./cascade/haarcascade_frontalface_default.xml')\n",
    "\n",
    "# Initialize the alarm and cheating counter\n",
    "alarm_on = False\n",
    "cheating_count = 0\n",
    "\n",
    "# Capture video from the webcam\n",
    "cap = cv2.VideoCapture(0)\n",
    "\n",
    "while True:\n",
    "    # Read each frame from the webcam\n",
    "    _, frame = cap.read()\n",
    "\n",
    "    # Convert the frame to grayscale\n",
    "    gray = cv2.cvtColor(frame, cv2.COLOR_BGR2GRAY)\n",
    "\n",
    "    # Detect faces in the frame\n",
    "    faces = face_cascade.detectMultiScale(gray, 1.1, 4)\n",
    "\n",
    "    # Loop over the detected faces\n",
    "    for (x, y, w, h) in faces:\n",
    "        # Draw a rectangle around the face\n",
    "        cv2.rectangle(frame, (x, y), (x + w, y + h), (255, 0, 0), 2)\n",
    "\n",
    "        # Check if the person is cheating by comparing the ROI with the saved model\n",
    "        roi = gray[y:y + h, x:x + w]\n",
    "        if is_cheating(roi, saved_model):\n",
    "            # Increment the cheating counter\n",
    "            cheating_count += 1\n",
    "\n",
    "            # If the person has cheated three times, sound the alarm\n",
    "            if cheating_count >= 3 and not alarm_on:\n",
    "                sound_alarm()\n",
    "                alarm_on = True\n",
    "\n",
    "    # Show the resulting frame\n",
    "    cv2.imshow('Frame', frame)\n",
    "\n",
    "    # Stop the loop if the user presses the 'q' key\n",
    "    if cv2.waitKey(1) == ord('q'):\n",
    "        break\n",
    "\n",
    "# Release the video capture object\n",
    "cap.release()\n"
   ]
  },
  {
   "cell_type": "code",
   "execution_count": null,
   "metadata": {},
   "outputs": [],
   "source": []
  }
 ],
 "metadata": {
  "kernelspec": {
   "display_name": "base",
   "language": "python",
   "name": "python3"
  },
  "language_info": {
   "codemirror_mode": {
    "name": "ipython",
    "version": 3
   },
   "file_extension": ".py",
   "mimetype": "text/x-python",
   "name": "python",
   "nbconvert_exporter": "python",
   "pygments_lexer": "ipython3",
   "version": "3.9.13"
  },
  "orig_nbformat": 4,
  "vscode": {
   "interpreter": {
    "hash": "4a2365cc9973f15c638ee603b3a7e6accec4ebdade2354b699a9686e8d003b90"
   }
  }
 },
 "nbformat": 4,
 "nbformat_minor": 2
}
