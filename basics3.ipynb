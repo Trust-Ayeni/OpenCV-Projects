{
 "cells": [
  {
   "cell_type": "markdown",
   "metadata": {},
   "source": [
    "# SHAPES AND TEXTS"
   ]
  },
  {
   "cell_type": "code",
   "execution_count": 13,
   "metadata": {},
   "outputs": [
    {
     "data": {
      "text/plain": [
       "-1"
      ]
     },
     "execution_count": 13,
     "metadata": {},
     "output_type": "execute_result"
    }
   ],
   "source": [
    "import cv2\n",
    "import numpy as np\n",
    "\n",
    "img = np.zeros((512,512,3), np.uint8)\n",
    "\n",
    "# img[:] = 255,0,0 # To make the whole image[:] blue(255,0,0)\n",
    "# img[200:300, 100:300] = 255,0,0 only the defined range would be colored\n",
    "\n",
    "\n",
    "# To draw lines\n",
    "'''cv2.line(img,(0,0),(300,300),(0,255,0), 3) # Has starting point of (0,0) second argument, \n",
    "ending point os (300,300) third argument and color green (0,255,0) with a thickness of 3.'''\n",
    "\n",
    "# To draw complete diagonal line\n",
    "cv2.line(img,(0,0),(512,512),(0,255,0), 3) \n",
    "'''OR replace with cv2.line(img,(0,0),(img.shape[1], img.shape[0]),(0,255,0), 3) where img.shape[1] is the width and img.shape[0] is the height'''\n",
    "\n",
    "# To draw rectangles\n",
    "cv2.rectangle(img, (0,0), (250,350), (0,0,255), 2) \n",
    "'''To fill the rectangle with the specified color, replace thickness 2 with cv2.FILLED'''\n",
    "\n",
    "# To draw circle\n",
    "cv2.circle(img, (400,50), 30, (255,255,0),5) # where (400,50) is the centre and 30 is radius\n",
    "\n",
    "# To put text\n",
    "cv2.putText(img, 'OPENCV', (300,100), cv2.FONT_ITALIC, 0.5, (0,150,0), 1) # where (300,100) is the origin where the font would be, (0,150,0) is color, \n",
    "                                                                         #  0.5 is font size and 1 is the thickness\n",
    "\n",
    "\n",
    "\n",
    "cv2.imshow('Image', img)\n",
    "\n",
    "\n",
    "cv2.waitKey(0)"
   ]
  },
  {
   "cell_type": "code",
   "execution_count": null,
   "metadata": {},
   "outputs": [],
   "source": []
  }
 ],
 "metadata": {
  "interpreter": {
   "hash": "7e4a145a50e120770814ae6c9986681bab1e6abeb6e6576d2aba2c6a03df04d2"
  },
  "kernelspec": {
   "display_name": "Python 3.8.8 ('base')",
   "language": "python",
   "name": "python3"
  },
  "language_info": {
   "codemirror_mode": {
    "name": "ipython",
    "version": 3
   },
   "file_extension": ".py",
   "mimetype": "text/x-python",
   "name": "python",
   "nbconvert_exporter": "python",
   "pygments_lexer": "ipython3",
   "version": "3.8.8"
  },
  "orig_nbformat": 4
 },
 "nbformat": 4,
 "nbformat_minor": 2
}
