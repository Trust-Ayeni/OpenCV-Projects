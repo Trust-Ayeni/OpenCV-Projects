{
 "cells": [
  {
   "cell_type": "code",
   "execution_count": null,
   "metadata": {},
   "outputs": [],
   "source": [
    "import cv2\n",
    "img  = cv2.imread('resources/trust.png')\n",
    "\n",
    "# Name the window 'Output'\n",
    "cv2.imshow('Output', img)\n",
    "\n",
    "cv2.waitKey(0) # 0 is for infinite delay and 1000ml = 1sec\n"
   ]
  },
  {
   "cell_type": "markdown",
   "metadata": {},
   "source": [
    "Importing Videos"
   ]
  },
  {
   "cell_type": "code",
   "execution_count": 1,
   "metadata": {},
   "outputs": [],
   "source": [
    "import cv2\n",
    "\n",
    "cap = cv2.VideoCapture('resources/video for cv2.mp4')\n",
    "\n",
    "while True:\n",
    "    success, img = cap.read()\n",
    "    cv2.imshow('Video', img)\n",
    "    if cv2.waitKey(0) & 0xFF ==ord('q'):\n",
    "        break\n",
    "    "
   ]
  },
  {
   "cell_type": "markdown",
   "metadata": {},
   "source": [
    "Use Webcam"
   ]
  },
  {
   "cell_type": "code",
   "execution_count": 1,
   "metadata": {},
   "outputs": [],
   "source": [
    "import cv2\n",
    "\n",
    "cap = cv2.VideoCapture(0) # 0 represents the id of my webcam\n",
    "\n",
    "cap.set(3,640) # 3 represents the width of my webcam window\n",
    "cap.set(4,480) # 4 represents the height of my webcam window\n",
    "cap.set(10,100) # 10 represents the brightness of my webcam display\n",
    "\n",
    "while True:\n",
    "    success, img = cap.read()\n",
    "    cv2.imshow('Video', img)\n",
    "    if cv2.waitKey(30) & 0xFF ==ord('q'):\n",
    "        break\n",
    "    \n"
   ]
  },
  {
   "cell_type": "markdown",
   "metadata": {},
   "source": [
    "Basic Functions\n"
   ]
  },
  {
   "cell_type": "code",
   "execution_count": 1,
   "metadata": {},
   "outputs": [
    {
     "data": {
      "text/plain": [
       "-1"
      ]
     },
     "execution_count": 1,
     "metadata": {},
     "output_type": "execute_result"
    }
   ],
   "source": [
    "import cv2\n",
    "import numpy as np\n",
    "\n",
    "img = cv2.imread('resources/trust.png')\n",
    "kernel = np.ones((5,5), np.uint8)\n",
    "\n",
    "imGray = cv2.cvtColor(img, cv2.COLOR_BGR2GRAY)\n",
    "imBlur = cv2.GaussianBlur(imGray, (7,7),0) # kernel size (second argument) are odd numbers, sigma is 0 (third argument)\n",
    "imgCanny = cv2.Canny(img, 150,200) # 100,100 are the two threshold values or 150,200 to reduce the edges\n",
    "imgDialation = cv2.dilate(imgCanny, kernel, iterations=1) # Increasing the iterations makes the image thicker\n",
    "imgEroded = cv2.erode(imgDialation, kernel, iterations=1)\n",
    "\n",
    "cv2.imshow('Gray Image', imGray)\n",
    "cv2.imshow('Blured Image', imBlur)\n",
    "cv2.imshow('Canny Image', imgCanny)\n",
    "cv2.imshow('Dialated Image', imgDialation)\n",
    "cv2.imshow('Eroded Image', imgEroded)\n",
    "cv2.waitKey(0)"
   ]
  },
  {
   "cell_type": "code",
   "execution_count": null,
   "metadata": {},
   "outputs": [],
   "source": []
  }
 ],
 "metadata": {
  "interpreter": {
   "hash": "7e4a145a50e120770814ae6c9986681bab1e6abeb6e6576d2aba2c6a03df04d2"
  },
  "kernelspec": {
   "display_name": "Python 3.8.8 ('base')",
   "language": "python",
   "name": "python3"
  },
  "language_info": {
   "codemirror_mode": {
    "name": "ipython",
    "version": 3
   },
   "file_extension": ".py",
   "mimetype": "text/x-python",
   "name": "python",
   "nbconvert_exporter": "python",
   "pygments_lexer": "ipython3",
   "version": "3.8.8"
  },
  "orig_nbformat": 4
 },
 "nbformat": 4,
 "nbformat_minor": 2
}
