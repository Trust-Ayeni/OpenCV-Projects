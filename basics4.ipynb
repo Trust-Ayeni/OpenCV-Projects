{
 "cells": [
  {
   "cell_type": "markdown",
   "metadata": {},
   "source": [
    "# WARP PERSPECTIVE"
   ]
  },
  {
   "cell_type": "code",
   "execution_count": 8,
   "metadata": {},
   "outputs": [
    {
     "data": {
      "text/plain": [
       "-1"
      ]
     },
     "execution_count": 8,
     "metadata": {},
     "output_type": "execute_result"
    }
   ],
   "source": [
    "import cv2\n",
    "import numpy as np\n",
    "\n",
    "img = cv2.imread('resources/puzzle.png')\n",
    "\n",
    "width,height = 700,700\n",
    "pts1 = np.float32([[194,325],[443,363],[196,372],[440,380]]) # Use paint to discorver the four point specified\n",
    "pts2 = np.float32([[0,0],[width,0],[0,height],[width,height]])\n",
    "matrix = cv2.getPerspectiveTransform(pts1,pts2)\n",
    "\n",
    "imgOutput = cv2.warpPerspective(img, matrix, (width,height))\n",
    "\n",
    "cv2.imshow('Image', img)\n",
    "cv2.imshow('Output', imgOutput)\n",
    "\n",
    "\n",
    "\n",
    "cv2.waitKey(0)"
   ]
  }
 ],
 "metadata": {
  "interpreter": {
   "hash": "7e4a145a50e120770814ae6c9986681bab1e6abeb6e6576d2aba2c6a03df04d2"
  },
  "kernelspec": {
   "display_name": "Python 3.8.8 ('base')",
   "language": "python",
   "name": "python3"
  },
  "language_info": {
   "codemirror_mode": {
    "name": "ipython",
    "version": 3
   },
   "file_extension": ".py",
   "mimetype": "text/x-python",
   "name": "python",
   "nbconvert_exporter": "python",
   "pygments_lexer": "ipython3",
   "version": "3.8.8"
  },
  "orig_nbformat": 4
 },
 "nbformat": 4,
 "nbformat_minor": 2
}
