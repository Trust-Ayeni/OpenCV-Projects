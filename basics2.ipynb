{
 "cells": [
  {
   "cell_type": "markdown",
   "metadata": {},
   "source": [
    "# RESIZING AND CROPPING"
   ]
  },
  {
   "cell_type": "code",
   "execution_count": 1,
   "metadata": {},
   "outputs": [
    {
     "name": "stdout",
     "output_type": "stream",
     "text": [
      "(879, 1556, 3)\n",
      "(200, 300, 3)\n"
     ]
    },
    {
     "data": {
      "text/plain": [
       "-1"
      ]
     },
     "execution_count": 1,
     "metadata": {},
     "output_type": "execute_result"
    }
   ],
   "source": [
    "import cv2\n",
    "img  = cv2.imread('resources/titan.png')\n",
    "\n",
    "# To check the size of image 'titan.png'\n",
    "print(img.shape) # The output gives us 879 as height and 1556 as width and 3 is the chanel i.e BGR\n",
    "\n",
    "# To resize the image\n",
    "imgResize = cv2.resize(img, (300,200)) # width and height are 300,200\n",
    "print(imgResize.shape)\n",
    "\n",
    "imgCropped = img[0:400, 400:800]\n",
    "\n",
    "\n",
    "# Name the window 'Output'\n",
    "cv2.imshow('Output', img)\n",
    "cv2.imshow('Resized Image', imgResize)\n",
    "cv2.imshow('Cropped image', imgCropped)\n",
    "\n",
    "cv2.waitKey(0)"
   ]
  }
 ],
 "metadata": {
  "interpreter": {
   "hash": "7e4a145a50e120770814ae6c9986681bab1e6abeb6e6576d2aba2c6a03df04d2"
  },
  "kernelspec": {
   "display_name": "Python 3.8.8 ('base')",
   "language": "python",
   "name": "python3"
  },
  "language_info": {
   "codemirror_mode": {
    "name": "ipython",
    "version": 3
   },
   "file_extension": ".py",
   "mimetype": "text/x-python",
   "name": "python",
   "nbconvert_exporter": "python",
   "pygments_lexer": "ipython3",
   "version": "3.8.8"
  },
  "orig_nbformat": 4
 },
 "nbformat": 4,
 "nbformat_minor": 2
}
